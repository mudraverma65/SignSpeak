{
 "cells": [
  {
   "cell_type": "markdown",
   "metadata": {
    "id": "3swiValoUu5U"
   },
   "source": [
    "<h1><center>CSCI 6515 - Machine Learning for Big Data (Fall 2023)</h1></center>\n",
    "<h1><center>Assignment No. 3</h1></center>\n",
    "\n",
    "<b>Mudra Verma</b>  \n",
    "<b>Banner ID: B00932103</b>  \n"
   ]
  },
  {
   "cell_type": "markdown",
   "metadata": {
    "id": "dm4068tkVkZ4"
   },
   "source": [
    "### 1. Task 1<a id='top'></a>\n",
    "\n",
    "**Data Transformation**<a href='#1'>[1]</a>"
   ]
  },
  {
   "cell_type": "code",
   "execution_count": 1,
   "metadata": {},
   "outputs": [],
   "source": [
    "##### Data Transformation on the dataset #####\n",
    "### Normalizing the training dataset ###\n",
    "\n",
    "import pandas as pd\n",
    "from sklearn.preprocessing import MinMaxScaler\n",
    "\n",
    "# Assuming you have a DataFrame with columns 'label', 'pixel1', 'pixel2', ..., 'pixel784'\n",
    "# Load your dataset (replace 'your_dataset.csv' with the actual file path)\n",
    "df = pd.read_csv('sign_mnist_train.csv')\n",
    "\n",
    "# Separate labels and pixel values\n",
    "labels = df['label']\n",
    "pixels = df.drop('label', axis=1)\n",
    "\n",
    "# Apply Min-Max scaling to normalize pixel values to the range [0, 1]\n",
    "scaler = MinMaxScaler()\n",
    "pixels_normalized = scaler.fit_transform(pixels)\n",
    "\n",
    "# Combine normalized pixel values with labels\n",
    "df_normalized = pd.DataFrame(data=pixels_normalized, columns=pixels.columns)\n",
    "df_normalized['label'] = labels\n",
    "\n",
    "# Save the normalized dataset (replace 'normalized_dataset.csv' with your desired file name)\n",
    "df_normalized.to_csv('normalized_dataset.csv', index=False)"
   ]
  },
  {
   "cell_type": "code",
   "execution_count": 2,
   "metadata": {},
   "outputs": [],
   "source": [
    "##### Data Transformation on the dataset #####\n",
    "### Normalizing the test dataset ###\n",
    "\n",
    "import pandas as pd\n",
    "from sklearn.preprocessing import MinMaxScaler\n",
    "\n",
    "# Assuming you have a DataFrame with columns 'label', 'pixel1', 'pixel2', ..., 'pixel784'\n",
    "# Load your dataset (replace 'your_dataset.csv' with the actual file path)\n",
    "df = pd.read_csv('sign_mnist_test.csv')\n",
    "\n",
    "# Separate labels and pixel values\n",
    "labels = df['label']\n",
    "pixels = df.drop('label', axis=1)\n",
    "\n",
    "# Apply Min-Max scaling to normalize pixel values to the range [0, 1]\n",
    "scaler = MinMaxScaler()\n",
    "pixels_normalized = scaler.fit_transform(pixels)\n",
    "\n",
    "# Combine normalized pixel values with labels\n",
    "df_normalized = pd.DataFrame(data=pixels_normalized, columns=pixels.columns)\n",
    "df_normalized['label'] = labels\n",
    "\n",
    "# Save the normalized dataset (replace 'normalized_dataset.csv' with your desired file name)\n",
    "df_normalized.to_csv('normalized_test_dataset.csv', index=False)"
   ]
  },
  {
   "cell_type": "markdown",
   "metadata": {},
   "source": [
    "**Descriptive Analysis** :\n",
    "\n",
    "Normalization is performed on the MNIST image dataset, as well as on many other image datasets, for several reasons related to improving the performance and convergence of machine learning models. Here are some key reasons for normalizing pixel values in the MNIST dataset:\n",
    "1. Stability of Training: Normalization ensures that the pixel values are within a similar numerical range. This helps in stabilizing and accelerating the training process of machine learning models.\n",
    "2. Model Generalization: Normalization can improve the generalization ability of a model. By bringing all pixel values into a standard range, the model becomes less sensitive to variations in the input data. This is especially important for datasets like MNIST, where the lighting conditions or contrast of the images may vary."
   ]
  },
  {
   "cell_type": "markdown",
   "metadata": {
    "id": "V0IqkU8MVuAW"
   },
   "source": [
    "### 2. K-means algorithm to Sign Language MNIST dataset"
   ]
  },
  {
   "cell_type": "markdown",
   "metadata": {
    "id": "ZnMNsqJK_i73"
   },
   "source": [
    "#### i) Subtask 2.a"
   ]
  },
  {
   "cell_type": "code",
   "execution_count": null,
   "metadata": {
    "id": "x3wwDHRsV-Ve"
   },
   "outputs": [],
   "source": [
    "##### K-means algorithm #####\n",
    "\n",
    "import numpy as np\n",
    "import pandas as pd\n",
    "from sklearn.cluster import KMeans\n",
    "from sklearn import metrics\n",
    "import matplotlib.pyplot as plt\n",
    "\n",
    "# Load the Sign Language MNIST dataset (replace 'your_dataset.csv' with the actual file path)\n",
    "df = pd.read_csv('normalized_dataset.csv')\n",
    "\n",
    "# Separate labels and pixel values\n",
    "labels = df['label']\n",
    "pixels = df.drop('label', axis=1)\n",
    "\n",
    "# Convert DataFrame to NumPy array\n",
    "X = pixels.values\n",
    "\n",
    "# Vary the number of clusters from 10 to 200 with a step size of 10\n",
    "cluster_range = range(10, 201, 10)\n",
    "accuracy_scores = []\n",
    "inertia_values = []\n",
    "\n",
    "for n_clusters in cluster_range:\n",
    "    # Fit the k-means model\n",
    "    kmeans = KMeans(n_clusters=n_clusters, n_init=10, random_state=42)\n",
    "    kmeans.fit(X)\n",
    "    \n",
    "    # Predict cluster labels\n",
    "    labels_pred = kmeans.predict(X)\n",
    "    \n",
    "    # Calculate accuracy\n",
    "    accuracy = metrics.accuracy_score(labels, labels_pred)\n",
    "    accuracy_scores.append(accuracy)\n",
    "    \n",
    "    # Get the inertia (objective function) value\n",
    "    inertia = kmeans.inertia_\n",
    "    inertia_values.append(inertia)\n",
    "\n",
    "# Plot the accuracy and inertia values for different numbers of clusters\n",
    "plt.figure(figsize=(12, 6))\n",
    "\n",
    "# Plot accuracy\n",
    "plt.subplot(1, 2, 1)\n",
    "plt.plot(cluster_range, accuracy_scores, marker='o')\n",
    "plt.title('Accuracy vs. Number of Clusters')\n",
    "plt.xlabel('Number of Clusters')\n",
    "plt.ylabel('Accuracy')\n",
    "\n",
    "# Plot inertia values\n",
    "plt.subplot(1, 2, 2)\n",
    "plt.plot(cluster_range, inertia_values, marker='o')\n",
    "plt.title('Inertia vs. Number of Clusters')\n",
    "plt.xlabel('Number of Clusters')\n",
    "plt.ylabel('Inertia')\n",
    "\n",
    "plt.tight_layout()\n",
    "plt.show()\n"
   ]
  },
  {
   "cell_type": "markdown",
   "metadata": {},
   "source": [
    "##### a) Sub-Subtask 2.i.a"
   ]
  },
  {
   "cell_type": "markdown",
   "metadata": {},
   "source": [
    "**Your Answer**"
   ]
  },
  {
   "cell_type": "code",
   "execution_count": null,
   "metadata": {},
   "outputs": [],
   "source": [
    "### 3. Fuzzy K-means algorithm to Sign Language MNIST dataset"
   ]
  },
  {
   "cell_type": "code",
   "execution_count": null,
   "metadata": {},
   "outputs": [],
   "source": [
    "#### i) Subtask 3.a"
   ]
  },
  {
   "cell_type": "code",
   "execution_count": null,
   "metadata": {},
   "outputs": [],
   "source": [
    "import numpy as np\n",
    "import pandas as pd\n",
    "import skfuzzy as fuzz\n",
    "from sklearn import metrics\n",
    "import matplotlib.pyplot as plt\n",
    "\n",
    "# Load the Sign Language MNIST dataset (replace 'your_dataset.csv' with the actual file path)\n",
    "df = pd.read_csv('normalized_dataset.csv')\n",
    "\n",
    "# Separate labels and pixel values\n",
    "labels = df['label']\n",
    "pixels = df.drop('label', axis=1)\n",
    "\n",
    "# Convert DataFrame to NumPy array\n",
    "X = pixels.values\n",
    "\n",
    "# Vary the number of clusters from 10 to 200 with a step size of 10\n",
    "cluster_range = range(10, 201, 10)\n",
    "accuracy_scores = []\n",
    "objective_function_values = []\n",
    "\n",
    "for n_clusters in cluster_range:\n",
    "    # Apply fuzzy k-means\n",
    "    cntr, u, u0, d, jm, p, fpc = fuzz.cluster.cmeans(\n",
    "        X.T,\n",
    "        c=n_clusters,\n",
    "        m=2,  # Fuzziness coefficient (usually set to 2)\n",
    "        error=0.005,  # Stopping criterion for the algorithm\n",
    "        maxiter=1000,  # Maximum number of iterations\n",
    "        init=None,  # Initial cluster centers (default: None, which means random initialization)\n",
    "        seed=42\n",
    "    )\n",
    "\n",
    "    # Get the cluster labels\n",
    "    labels_pred = np.argmax(u, axis=0)\n",
    "\n",
    "    # Calculate accuracy\n",
    "    accuracy = metrics.accuracy_score(labels, labels_pred)\n",
    "    accuracy_scores.append(accuracy)\n",
    "\n",
    "    # Get the objective function value (Jm)\n",
    "    objective_function_values.append(jm)\n",
    "\n",
    "# Plot the accuracy and objective function values for different numbers of clusters\n",
    "plt.figure(figsize=(12, 6))\n",
    "\n",
    "# Plot accuracy\n",
    "plt.subplot(1, 2, 1)\n",
    "plt.plot(cluster_range, accuracy_scores, marker='o')\n",
    "plt.title('Accuracy vs. Number of Clusters')\n",
    "plt.xlabel('Number of Clusters')\n",
    "plt.ylabel('Accuracy')\n",
    "\n",
    "# Plot objective function values\n",
    "plt.subplot(1, 2, 2)\n",
    "plt.plot(cluster_range, objective_function_values, marker='o')\n",
    "plt.title('Objective Function Value vs. Number of Clusters')\n",
    "plt.xlabel('Number of Clusters')\n",
    "plt.ylabel('Objective Function Value')\n",
    "\n",
    "plt.tight_layout()\n",
    "plt.show()"
   ]
  },
  {
   "cell_type": "markdown",
   "metadata": {},
   "source": [
    "##### b) Sub-Subtask 2.i.b"
   ]
  },
  {
   "cell_type": "markdown",
   "metadata": {
    "id": "YPgT8O5FV-uZ"
   },
   "source": [
    "### References:\n",
    "\n",
    "1. \n",
    "2. Scribbr. (2021, July 30). Free APA citation Generator | with Chrome Extension - Scribbr. https://www.scribbr.com/citation/generator/apa/"
   ]
  }
 ],
 "metadata": {
  "colab": {
   "provenance": []
  },
  "kernelspec": {
   "display_name": "Python 3 (ipykernel)",
   "language": "python",
   "name": "python3"
  },
  "language_info": {
   "codemirror_mode": {
    "name": "ipython",
    "version": 3
   },
   "file_extension": ".py",
   "mimetype": "text/x-python",
   "name": "python",
   "nbconvert_exporter": "python",
   "pygments_lexer": "ipython3",
   "version": "3.10.10"
  }
 },
 "nbformat": 4,
 "nbformat_minor": 1
}
